{
 "cells": [
  {
   "cell_type": "markdown",
   "metadata": {},
   "source": [
    "# EX 5: Bigram and nGram Tagging"
   ]
  },
  {
   "cell_type": "markdown",
   "metadata": {},
   "source": [
    "# Program 5.1: Simple Bigram Generation"
   ]
  },
  {
   "cell_type": "code",
   "execution_count": 2,
   "metadata": {},
   "outputs": [
    {
     "name": "stdout",
     "output_type": "stream",
     "text": [
      "Bigrams: [('NLP', 'is'), ('is', 'amazing'), ('amazing', '.')]\n"
     ]
    }
   ],
   "source": [
    "import nltk\n",
    "from nltk import bigrams\n",
    "text=\"NLP is amazing.\"\n",
    "tokens=nltk.word_tokenize(text)\n",
    "bigram_list=list(bigrams(tokens))\n",
    "print(\"Bigrams:\",bigram_list)"
   ]
  },
  {
   "cell_type": "markdown",
   "metadata": {},
   "source": [
    "# Program 5.2: Advanced n-gram(Trigram) Generation"
   ]
  },
  {
   "cell_type": "code",
   "execution_count": 3,
   "metadata": {},
   "outputs": [
    {
     "name": "stdout",
     "output_type": "stream",
     "text": [
      "Trigram: [('NLP', 'makes', 'machines'), ('makes', 'machines', 'understand'), ('machines', 'understand', 'language'), ('understand', 'language', '.')]\n"
     ]
    }
   ],
   "source": [
    "from nltk.util import ngrams\n",
    "text=\"NLP makes machines understand language.\"\n",
    "tokens=nltk.word_tokenize(text)\n",
    "trigram_list=list(ngrams(tokens,3))\n",
    "print(\"Trigram:\",trigram_list)"
   ]
  }
 ],
 "metadata": {
  "kernelspec": {
   "display_name": "Python 3",
   "language": "python",
   "name": "python3"
  },
  "language_info": {
   "codemirror_mode": {
    "name": "ipython",
    "version": 3
   },
   "file_extension": ".py",
   "mimetype": "text/x-python",
   "name": "python",
   "nbconvert_exporter": "python",
   "pygments_lexer": "ipython3",
   "version": "3.7.1"
  }
 },
 "nbformat": 4,
 "nbformat_minor": 2
}
