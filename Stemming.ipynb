{
 "cells": [
  {
   "cell_type": "markdown",
   "metadata": {},
   "source": [
    "# Types of Stemming"
   ]
  },
  {
   "cell_type": "markdown",
   "metadata": {},
   "source": [
    "# 1. Porter Stemmer"
   ]
  },
  {
   "cell_type": "code",
   "execution_count": 11,
   "metadata": {},
   "outputs": [
    {
     "name": "stdout",
     "output_type": "stream",
     "text": [
      "Original words: ['running', 'runs', 'ran', 'runner']\n",
      "Porter Stemmer: ['run', 'run', 'ran', 'runner']\n"
     ]
    }
   ],
   "source": [
    "from nltk.stem import PorterStemmer\n",
    "\n",
    "ps = PorterStemmer()\n",
    "words = [\"running\", \"runs\", \"ran\", \"runner\"]\n",
    "\n",
    "stemmed = [ps.stem(word) for word in words]\n",
    "print(\"Original words:\", words )\n",
    "print( \"Porter Stemmer:\",stemmed)  "
   ]
  },
  {
   "cell_type": "markdown",
   "metadata": {},
   "source": [
    "# 2.Snowball Stemmer"
   ]
  },
  {
   "cell_type": "code",
   "execution_count": 12,
   "metadata": {},
   "outputs": [
    {
     "name": "stdout",
     "output_type": "stream",
     "text": [
      "Original words: ['running', 'jumped', 'happily', 'quickly', 'foxes']\n",
      "Stemmed words: ['run', 'jump', 'happili', 'quick', 'fox']\n"
     ]
    }
   ],
   "source": [
    "from nltk.stem import SnowballStemmer\n",
    "\n",
    "\n",
    "stemmer = SnowballStemmer(language='english')\n",
    "\n",
    "words_to_stem = ['running', 'jumped', 'happily', 'quickly', 'foxes']\n",
    "\n",
    "stemmed_words = [stemmer.stem(word) for word in words_to_stem]\n",
    "\n",
    "\n",
    "print(\"Original words:\", words_to_stem)\n",
    "print(\"Stemmed words:\", stemmed_words)"
   ]
  },
  {
   "cell_type": "markdown",
   "metadata": {},
   "source": [
    "# 3. Lancaster Stemmer "
   ]
  },
  {
   "cell_type": "code",
   "execution_count": 16,
   "metadata": {},
   "outputs": [
    {
     "name": "stdout",
     "output_type": "stream",
     "text": [
      "Original words: ['running', 'jumped', 'happily', 'quickly', 'foxes']\n",
      "Lancaster Stemmer: ['run', 'jump', 'happy', 'quick', 'fox']\n"
     ]
    }
   ],
   "source": [
    "from nltk.stem import LancasterStemmer\n",
    "\n",
    "ls = LancasterStemmer()\n",
    "words =['running', 'jumped', 'happily', 'quickly', 'foxes']\n",
    "\n",
    "stemmed = [ls.stem(word) for word in words]\n",
    "print(\"Original words:\", words )\n",
    "print(\"Lancaster Stemmer:\",stemmed)  "
   ]
  },
  {
   "cell_type": "markdown",
   "metadata": {},
   "source": [
    "# 4.Regexp Stemmer"
   ]
  },
  {
   "cell_type": "code",
   "execution_count": 18,
   "metadata": {},
   "outputs": [
    {
     "name": "stdout",
     "output_type": "stream",
     "text": [
      "Original words: ['running', 'jumping', 'eating', 'king', 'bring']\n",
      " Regexp Stemmer: ['runn', 'jump', 'eat', 'k', 'br']\n"
     ]
    }
   ],
   "source": [
    "from nltk.stem import RegexpStemmer\n",
    "\n",
    "# Remove common suffix \"ing\"\n",
    "rs = RegexpStemmer('ing$')  # regex pattern to remove 'ing' from the end\n",
    "\n",
    "words = [\"running\", \"jumping\", \"eating\", \"king\", \"bring\"]\n",
    "stemmed = [rs.stem(word) for word in words]\n",
    "print(\"Original words:\", words )\n",
    "print(\" Regexp Stemmer:\",stemmed)  "
   ]
  },
  {
   "cell_type": "markdown",
   "metadata": {},
   "source": [
    "# 5.Lovins Stemmer"
   ]
  },
  {
   "cell_type": "code",
   "execution_count": 30,
   "metadata": {},
   "outputs": [
    {
     "name": "stdout",
     "output_type": "stream",
     "text": [
      "Requirement already satisfied: stemming in c:\\programdata\\anaconda3\\lib\\site-packages (1.0.1)\n",
      "Original words: ['running', 'jumped', 'happily', 'quickly', 'foxes']\n",
      " Lovins Stemmer: ['run', 'jump', 'hap', 'quick', 'fox']\n"
     ]
    }
   ],
   "source": [
    "!pip install stemming\n",
    "from stemming.lovins import stem\n",
    "\n",
    "\n",
    "words =['running', 'jumped', 'happily', 'quickly', 'foxes']\n",
    "\n",
    "\n",
    "stemmed = [stem(word) for word in words]\n",
    "print(\"Original words:\", words )\n",
    "print(\" Lovins Stemmer:\",stemmed)  "
   ]
  }
 ],
 "metadata": {
  "kernelspec": {
   "display_name": "Python 3",
   "language": "python",
   "name": "python3"
  },
  "language_info": {
   "codemirror_mode": {
    "name": "ipython",
    "version": 3
   },
   "file_extension": ".py",
   "mimetype": "text/x-python",
   "name": "python",
   "nbconvert_exporter": "python",
   "pygments_lexer": "ipython3",
   "version": "3.7.1"
  }
 },
 "nbformat": 4,
 "nbformat_minor": 2
}
