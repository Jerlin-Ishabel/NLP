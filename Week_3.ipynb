{
 "cells": [
  {
   "cell_type": "markdown",
   "metadata": {},
   "source": [
    "# EX 3: Document Similarity Using VSM"
   ]
  },
  {
   "cell_type": "markdown",
   "metadata": {},
   "source": [
    "# Program 3.1: Simple Cosine Similarity"
   ]
  },
  {
   "cell_type": "code",
   "execution_count": 4,
   "metadata": {},
   "outputs": [
    {
     "name": "stdout",
     "output_type": "stream",
     "text": [
      "cosine similarity: 0.3041257418754935\n"
     ]
    }
   ],
   "source": [
    "from sklearn.feature_extraction.text import TfidfVectorizer\n",
    "from sklearn.metrics.pairwise import cosine_similarity\n",
    "text1=\"Data Science is an interesting field.\"\n",
    "text2=\"Machine Learning is a part of Data Science.\"\n",
    "Vectorizer=TfidfVectorizer()\n",
    "x=Vectorizer.fit_transform([text1,text2])\n",
    "similarity=cosine_similarity(x[0:1],x[1:2])\n",
    "print(\"cosine similarity:\",similarity[0][0])"
   ]
  },
  {
   "cell_type": "markdown",
   "metadata": {},
   "source": [
    "# Program 3.2: Advanced Similarity Using Jaccard Distance"
   ]
  },
  {
   "cell_type": "code",
   "execution_count": 7,
   "metadata": {},
   "outputs": [
    {
     "name": "stdout",
     "output_type": "stream",
     "text": [
      "Jaccard Similarity: 0.07692307692307693\n"
     ]
    }
   ],
   "source": [
    "text1=\"Data Science involves statistics and programming.\"\n",
    "text2=\"Programming in Python is essential for Data Science.\"\n",
    "set1=set(text1.lower().split())\n",
    "set2=set(text2.lower().split())\n",
    "intersection=set1.intersection(set2)\n",
    "union=set1.union(set2)\n",
    "Jaccard_Similarity=len(intersection)/len(union)\n",
    "print(\"Jaccard Similarity:\",Jaccard_Similarity)\n"
   ]
  }
 ],
 "metadata": {
  "kernelspec": {
   "display_name": "Python 3",
   "language": "python",
   "name": "python3"
  },
  "language_info": {
   "codemirror_mode": {
    "name": "ipython",
    "version": 3
   },
   "file_extension": ".py",
   "mimetype": "text/x-python",
   "name": "python",
   "nbconvert_exporter": "python",
   "pygments_lexer": "ipython3",
   "version": "3.7.1"
  }
 },
 "nbformat": 4,
 "nbformat_minor": 2
}
