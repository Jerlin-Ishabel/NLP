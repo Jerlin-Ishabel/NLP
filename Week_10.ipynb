{
  "nbformat": 4,
  "nbformat_minor": 0,
  "metadata": {
    "colab": {
      "provenance": []
    },
    "kernelspec": {
      "name": "python3",
      "display_name": "Python 3"
    },
    "language_info": {
      "name": "python"
    }
  },
  "cells": [
    {
      "cell_type": "markdown",
      "source": [
        "# EX 10: Word Sense Disambiguation(WSD)"
      ],
      "metadata": {
        "id": "YJLV2xkKdZdN"
      }
    },
    {
      "cell_type": "markdown",
      "source": [
        "# Program 10.1: Simple WSD using Lesk Algorithm"
      ],
      "metadata": {
        "id": "3KDqQ02-dsNN"
      }
    },
    {
      "cell_type": "code",
      "metadata": {
        "colab": {
          "base_uri": "https://localhost:8080/"
        },
        "id": "6YofsRBcgNaj",
        "outputId": "790b1b25-427d-4492-b20b-a65d7a6a3c8f"
      },
      "source": [
        "import nltk\n",
        "nltk.download('wordnet')"
      ],
      "execution_count": 18,
      "outputs": [
        {
          "output_type": "stream",
          "name": "stderr",
          "text": [
            "[nltk_data] Downloading package wordnet to /root/nltk_data...\n"
          ]
        },
        {
          "output_type": "execute_result",
          "data": {
            "text/plain": [
              "True"
            ]
          },
          "metadata": {},
          "execution_count": 18
        }
      ]
    },
    {
      "cell_type": "code",
      "execution_count": 19,
      "metadata": {
        "colab": {
          "base_uri": "https://localhost:8080/"
        },
        "id": "3WvQdPa9dS26",
        "outputId": "034b7016-a0a5-438f-87e2-9c9df2b65ee1"
      },
      "outputs": [
        {
          "output_type": "stream",
          "name": "stdout",
          "text": [
            "Sense: Synset('savings_bank.n.02')\n",
            "Definition: a container (usually with a slot in the top) for keeping money at home\n"
          ]
        }
      ],
      "source": [
        "from nltk.wsd import lesk\n",
        "from nltk.tokenize import word_tokenize\n",
        "sentence=\"I went to the bank to deposit money.\"\n",
        "tokens=word_tokenize(sentence)\n",
        "sense=lesk(tokens,'bank')\n",
        "print(\"Sense:\",sense)\n",
        "print(\"Definition:\",sense.definition())"
      ]
    },
    {
      "cell_type": "markdown",
      "source": [
        "# Program 10.2: Advanced WSD with Multiple Words"
      ],
      "metadata": {
        "id": "HWBbPLTngg3O"
      }
    },
    {
      "cell_type": "code",
      "source": [
        "sentence=[\"The crane is flying.\",\"He used a crane to lift the load.\"]\n",
        "for sent in sentence:\n",
        "  tokens=word_tokenize(sent)\n",
        "  sense=lesk(tokens,'crane')\n",
        "  print(\"sentence:\",sent)\n",
        "  print(\"sense:\",sense)\n",
        "  print(\"Definition:\",sense.definition())"
      ],
      "metadata": {
        "colab": {
          "base_uri": "https://localhost:8080/"
        },
        "id": "nSRwILCgeKGl",
        "outputId": "a9262ef5-904f-48c6-fc29-f452568bce97"
      },
      "execution_count": 20,
      "outputs": [
        {
          "output_type": "stream",
          "name": "stdout",
          "text": [
            "sentence: The crane is flying.\n",
            "sense: Synset('crane.n.04')\n",
            "Definition: lifts and moves heavy objects; lifting tackle is suspended from a pivoted boom that rotates around a vertical axis\n",
            "sentence: He used a crane to lift the load.\n",
            "sense: Synset('grus.n.01')\n",
            "Definition: a small constellation in the southern hemisphere near Phoenix\n"
          ]
        }
      ]
    }
  ]
}